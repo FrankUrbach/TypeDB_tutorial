{
 "cells": [
  {
   "cell_type": "markdown",
   "metadata": {},
   "source": [
    "# TypeDBClient - First steps into TypeDB and Julia"
   ]
  },
  {
   "cell_type": "markdown",
   "metadata": {},
   "source": [
    "### Start your (TypeDB) engine :-). Fasten seat belts, please!"
   ]
  },
  {
   "cell_type": "markdown",
   "metadata": {},
   "source": [
    "To start with the TypeDBClient you need a running instance of TypeDB-Core and TypeDBClient.jl"
   ]
  },
  {
   "cell_type": "markdown",
   "metadata": {},
   "source": [
    "**For now it is necessary to use the package from the GitHub repo directly because its early stage and no release yet.**"
   ]
  },
  {
   "cell_type": "code",
   "execution_count": null,
   "metadata": {},
   "outputs": [],
   "source": [
    "using TypeDBClient\n",
    "using TypeDBClient: CoreClient, CoreSession, CoreTransaction, Proto, ConceptManager, ConceptMap\n",
    "using TypeDBClient: create_database, contains_database, delete_database, transaction\n",
    "using TypeDBClient: define, insert, commit, match, as_remote"
   ]
  },
  {
   "cell_type": "markdown",
   "metadata": {},
   "source": [
    "**Create a client**"
   ]
  },
  {
   "cell_type": "code",
   "execution_count": null,
   "metadata": {},
   "outputs": [],
   "source": [
    "client = CoreClient(\"127.0.0.1\", 1729)"
   ]
  },
  {
   "cell_type": "markdown",
   "metadata": {},
   "source": [
    "**Create a database**"
   ]
  },
  {
   "cell_type": "code",
   "execution_count": null,
   "metadata": {},
   "outputs": [],
   "source": [
    "if !contains_database(client, \"social_network\")\n",
    "    create_database(client, \"social_network\")\n",
    "    @info \"Database social_network created\"\n",
    "else\n",
    "    @info \"Database social_network exist\"\n",
    "    delete_database(client, \"social_network\")\n",
    "    @info \"Database social_network deleted\"\n",
    "    create_database(client, \"social_network\")\n",
    "    @info \"Database social_network created\"\n",
    "end"
   ]
  },
  {
   "cell_type": "code",
   "execution_count": null,
   "metadata": {},
   "outputs": [],
   "source": [
    "session = CoreSession(client, \"social_network\" , Proto.Session_Type.SCHEMA, request_timout=Inf)"
   ]
  },
  {
   "cell_type": "code",
   "execution_count": null,
   "metadata": {},
   "outputs": [],
   "source": [
    "trans = transaction(session, Proto.Transaction_Type.WRITE)"
   ]
  },
  {
   "cell_type": "markdown",
   "metadata": {},
   "source": [
    "**Now all prerequisits are done. You have two choices to define schema elements.**\n",
    "* use a schmea file and define all in one step\n",
    "* use all possible methods in the clients concept section"
   ]
  },
  {
   "cell_type": "markdown",
   "metadata": {},
   "source": [
    "**For now we use the possibility to take a schema file and fill in data**"
   ]
  },
  {
   "cell_type": "markdown",
   "metadata": {},
   "source": [
    "In Julia nesting functions is common. Here we have an example where the function read(io::IO, Type) is the main function and for the io stream it is neccesary to open the file. "
   ]
  },
  {
   "cell_type": "code",
   "execution_count": null,
   "metadata": {},
   "outputs": [],
   "source": [
    "schema = read(open(\"example/social_network_schema.tql\"), String)"
   ]
  },
  {
   "cell_type": "markdown",
   "metadata": {},
   "source": [
    "**Now we are on the fly. With the prepared schema file we are able to define the schema with one function**"
   ]
  },
  {
   "cell_type": "code",
   "execution_count": null,
   "metadata": {},
   "outputs": [],
   "source": [
    "define(trans, schema)"
   ]
  },
  {
   "cell_type": "markdown",
   "metadata": {},
   "source": [
    "Don't forget the commit. (As I've done so many time :-) )"
   ]
  },
  {
   "cell_type": "code",
   "execution_count": null,
   "metadata": {},
   "outputs": [],
   "source": [
    "commit(trans)"
   ]
  },
  {
   "cell_type": "markdown",
   "metadata": {},
   "source": [
    "With commiting the transaction the same will be closed. Schema sessions and transactions are a little bit special. Dont forget to close the session if you have worked with the schema. Otherwise you are in trouble."
   ]
  },
  {
   "cell_type": "code",
   "execution_count": null,
   "metadata": {},
   "outputs": [],
   "source": [
    "close(session)"
   ]
  },
  {
   "cell_type": "code",
   "execution_count": null,
   "metadata": {},
   "outputs": [],
   "source": [
    "session = CoreSession(client, \"social_network\" , Proto.Session_Type.DATA, request_timout=Inf)\n",
    "trans = transaction(session, Proto.Transaction_Type.WRITE)"
   ]
  },
  {
   "cell_type": "markdown",
   "metadata": {},
   "source": [
    "**Now we are in shape to import data**"
   ]
  },
  {
   "cell_type": "code",
   "execution_count": null,
   "metadata": {},
   "outputs": [],
   "source": [
    "insert(trans, read(open(\"example/social_network_data.tql\"),String))"
   ]
  },
  {
   "cell_type": "markdown",
   "metadata": {},
   "source": [
    "And what we shouldn't forget: Yes .... the commit :-)"
   ]
  },
  {
   "cell_type": "code",
   "execution_count": null,
   "metadata": {},
   "outputs": [],
   "source": [
    "commit(trans)"
   ]
  },
  {
   "cell_type": "markdown",
   "metadata": {},
   "source": [
    "**And now we can go for querying our data as we want**"
   ]
  },
  {
   "cell_type": "code",
   "execution_count": null,
   "metadata": {},
   "outputs": [],
   "source": [
    "session = CoreSession(client, \"social_network\" , Proto.Session_Type.DATA, request_timout=Inf)\n",
    "trans = transaction(session, Proto.Transaction_Type.READ)"
   ]
  },
  {
   "cell_type": "code",
   "execution_count": null,
   "metadata": {},
   "outputs": [],
   "source": [
    "match_result = match(trans, raw\"\"\"match $x isa person;\"\"\")"
   ]
  },
  {
   "cell_type": "markdown",
   "metadata": {},
   "source": [
    "As we see here, every answer isa ConceptMap containing key value pairs. So we are able to iterate over the resultset as we want. \n",
    "But only entities are a little bit useless..."
   ]
  },
  {
   "cell_type": "code",
   "execution_count": null,
   "metadata": {},
   "outputs": [],
   "source": [
    "attr_type = get(ConceptManager(trans), EntityType, \"person\")\n",
    "remote_person = as_remote(attr_type, trans)\n",
    "owns = get_owns(remote_person)"
   ]
  },
  {
   "cell_type": "code",
   "execution_count": null,
   "metadata": {},
   "outputs": [],
   "source": [
    "match_result = match(trans, raw\"\"\"match $x isa person, has nickname $nickname, has full-name $fullname;\"\"\")"
   ]
  },
  {
   "cell_type": "code",
   "execution_count": null,
   "metadata": {},
   "outputs": [],
   "source": [
    "match_result[1][\"nickname\"].value"
   ]
  },
  {
   "cell_type": "markdown",
   "metadata": {},
   "source": [
    "**If you want use the result in a more advanced technic you could map this in a struct**"
   ]
  },
  {
   "cell_type": "code",
   "execution_count": null,
   "metadata": {},
   "outputs": [],
   "source": [
    "struct Person\n",
    "    fullname::String\n",
    "    nickname::String\n",
    "end"
   ]
  },
  {
   "cell_type": "code",
   "execution_count": null,
   "metadata": {},
   "outputs": [],
   "source": [
    "function Person(concept::ConceptMap)\n",
    "    result =  Person(concept.data[\"fullname\"].value,\n",
    "                concept.data[\"nickname\"].value)\n",
    "    return result\n",
    "end"
   ]
  },
  {
   "cell_type": "code",
   "execution_count": null,
   "metadata": {},
   "outputs": [],
   "source": [
    "res = Person(match_result[1])"
   ]
  },
  {
   "cell_type": "code",
   "execution_count": null,
   "metadata": {},
   "outputs": [],
   "source": [
    "all_results = Person.(match_result)"
   ]
  },
  {
   "cell_type": "code",
   "execution_count": null,
   "metadata": {},
   "outputs": [],
   "source": []
  }
 ],
 "metadata": {
  "kernelspec": {
   "display_name": "Julia 1.6.0",
   "language": "julia",
   "name": "julia-1.6"
  },
  "language_info": {
   "file_extension": ".jl",
   "mimetype": "application/julia",
   "name": "julia",
   "version": "1.6.1"
  }
 },
 "nbformat": 4,
 "nbformat_minor": 4
}
